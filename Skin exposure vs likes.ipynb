{
 "cells": [
  {
   "cell_type": "markdown",
   "metadata": {},
   "source": [
    "## First approach"
   ]
  },
  {
   "cell_type": "code",
   "execution_count": 35,
   "metadata": {},
   "outputs": [
    {
     "data": {
      "text/plain": [
       "True"
      ]
     },
     "execution_count": 35,
     "metadata": {},
     "output_type": "execute_result"
    }
   ],
   "source": [
    "# Required modules\n",
    "import cv2\n",
    "import numpy as np\n",
    "import matplotlib.pyplot as plt\n",
    "\n",
    "min_YCrCb = np.array([0,133,77],np.uint8)\n",
    "max_YCrCb = np.array([235,173,127],np.uint8)\n",
    "\n",
    "# Get pointer to video frames from primary device\n",
    "image = cv2.imread(\"filename\")\n",
    "imageYCrCb = cv2.cvtColor(image,cv2.COLOR_BGR2YCR_CB)\n",
    "skinRegionYCrCb = cv2.inRange(imageYCrCb,min_YCrCb,max_YCrCb)\n",
    "\n",
    "skinYCrCb = cv2.bitwise_and(image, image, mask = skinRegionYCrCb)\n",
    "\n",
    "cv2.imwrite(\"filename_filtered.png\", np.hstack([image,skinYCrCb]))"
   ]
  },
  {
   "cell_type": "markdown",
   "metadata": {},
   "source": [
    "## Second approach"
   ]
  },
  {
   "cell_type": "code",
   "execution_count": 36,
   "metadata": {},
   "outputs": [
    {
     "data": {
      "text/plain": [
       "True"
      ]
     },
     "execution_count": 36,
     "metadata": {},
     "output_type": "execute_result"
    }
   ],
   "source": [
    "# Required modules\n",
    "import cv2\n",
    "import numpy as np\n",
    "import matplotlib.pyplot as plt\n",
    "\n",
    "min_HSV = np.array([0, 58, 30], dtype = \"uint8\")\n",
    "max_HSV = np.array([33, 255, 255], dtype = \"uint8\")\n",
    "# Get pointer to video frames from primary device\n",
    "image = cv2.imread(\"filename\")\n",
    "imageHSV = cv2.cvtColor(image, cv2.COLOR_BGR2HSV)\n",
    "skinRegionHSV = cv2.inRange(imageHSV, min_HSV, max_HSV)\n",
    "\n",
    "skinHSV = cv2.bitwise_and(image, image, mask = skinRegionHSV)\n",
    "\n",
    "# print(skinHSV/image)\n",
    "\n",
    "cv2.imwrite(\"filename_filtered.png\", np.hstack([image, skinHSV]))"
   ]
  },
  {
   "cell_type": "markdown",
   "metadata": {},
   "source": [
    "## Calculate ratio of skin to photo"
   ]
  },
  {
   "cell_type": "code",
   "execution_count": 42,
   "metadata": {},
   "outputs": [
    {
     "name": "stdout",
     "output_type": "stream",
     "text": [
      "brown pixel percentage: 57.51\n",
      "57.509\n"
     ]
    }
   ],
   "source": [
    "img = cv2.imread('filename')\n",
    "grid_HSV = cv2.cvtColor(img, cv2.COLOR_BGR2HSV)\n",
    "\n",
    "# skin colour\n",
    "min_HSV = np.array([0, 58, 30], dtype = \"uint8\")\n",
    "max_HSV = np.array([33, 255, 255], dtype = \"uint8\")\n",
    "\n",
    "mask= cv2.inRange(grid_HSV, min_HSV, max_HSV)\n",
    "\n",
    "# find the ratio\n",
    "ratio = cv2.countNonZero(mask)/(img.size/3)\n",
    "print('brown pixel percentage:', np.round(ratio*100, 3))"
   ]
  },
  {
   "cell_type": "markdown",
   "metadata": {},
   "source": [
    "## Script to download the top x post of an instagram profile"
   ]
  },
  {
   "cell_type": "code",
   "execution_count": 4,
   "metadata": {},
   "outputs": [],
   "source": [
    "# From the script below you will get 2 folders(one with the name of highest and another with the name of lowest). \n",
    "# Inside these 2 folders there will be images of those posts downloaded and also a csv file that contains captions, url and number of likes and comments\n",
    "import csv \n",
    "from itertools import islice\n",
    "from math import ceil\n",
    "from datetime import datetime\n",
    "from itertools import dropwhile, takewhile\n",
    "\n",
    "from instaloader import Instaloader, Profile\n",
    "\n",
    "# function to scrape\n",
    "def scrape(name, percentage):\n",
    "    PROFILE = name        # profile to download from\n",
    "    X_percentage = percentage    # percentage of posts that should be downloaded\n",
    "\n",
    "    L = Instaloader()\n",
    "\n",
    "    \n",
    "    profile = Profile.from_username(L.context, PROFILE)\n",
    "    posts = profile.get_posts()\n",
    "    \n",
    "    posts_sorted_by_likes = sorted(posts,\n",
    "                                   key=lambda p: p.likes + p.comments,\n",
    "                                   reverse=False)  # false means that the order is starting from the least popular post\n",
    "\n",
    "    # need to write number of likes and comments to csv\n",
    "    # change the folder name from lowest to highest to get the top posts\n",
    "    with open('lowest/'+PROFILE+'.csv', 'w', newline='') as file:\n",
    "        writer = csv.writer(file)\n",
    "        writer.writerow([\"caption\",\"urlToPhoto\",\"numOfLikes\",\"numOfComments\"])\n",
    "        i = 0\n",
    "        for post in islice(posts_sorted_by_likes, ceil(profile.mediacount * X_percentage / 100)):\n",
    "            L.download_pic('lowest/',post.url, post.date_local, str(i))  # download the picture\n",
    "            writer.writerow([post.caption,post.url,post.likes, post.comments])\n",
    "            i += 1\n",
    "    "
   ]
  },
  {
   "cell_type": "code",
   "execution_count": 5,
   "metadata": {},
   "outputs": [
    {
     "name": "stdout",
     "output_type": "stream",
     "text": [
      "lowest/_0.jpg lowest/_1.jpg lowest/_2.jpg lowest/_3.jpg lowest/_4.jpg lowest/_5.jpg lowest/_6.jpg lowest/_7.jpg lowest/_8.jpg lowest/_9.jpg lowest/_10.jpg lowest/_11.jpg lowest/_12.jpg lowest/_13.jpg lowest/_14.jpg lowest/_15.jpg lowest/_16.jpg lowest/_17.jpg lowest/_18.jpg lowest/_19.jpg lowest/_20.jpg lowest/_21.jpg lowest/_22.jpg lowest/_23.jpg lowest/_24.jpg lowest/_25.jpg lowest/_26.jpg lowest/_27.jpg lowest/_28.jpg lowest/_29.jpg lowest/_30.jpg lowest/_31.jpg lowest/_32.jpg lowest/_33.jpg lowest/_34.jpg lowest/_35.jpg lowest/_36.jpg lowest/_37.jpg lowest/_38.jpg lowest/_39.jpg lowest/_40.jpg lowest/_41.jpg lowest/_42.jpg lowest/_43.jpg lowest/_44.jpg lowest/_45.jpg lowest/_46.jpg lowest/_47.jpg lowest/_48.jpg lowest/_49.jpg lowest/_50.jpg lowest/_51.jpg lowest/_52.jpg lowest/_53.jpg lowest/_54.jpg lowest/_55.jpg lowest/_56.jpg lowest/_57.jpg lowest/_58.jpg lowest/_59.jpg lowest/_60.jpg lowest/_61.jpg "
     ]
    }
   ],
   "source": [
    "scrape(\"cathrynli\",20)  # top 20%"
   ]
  },
  {
   "cell_type": "markdown",
   "metadata": {},
   "source": [
    "## Get the ratio of skin to picture for all pictures inside the folder"
   ]
  },
  {
   "cell_type": "code",
   "execution_count": null,
   "metadata": {},
   "outputs": [],
   "source": [
    "# You will get a list that contains the percentage of skin in that image.\n",
    "# Feel free to change the colour of the skin\n",
    "# change the directory to lowest so that you can get another list \n",
    "import os\n",
    "import cv2\n",
    "import numpy as np\n",
    "import matplotlib.pyplot as plt\n",
    "directory = \"highest\"\n",
    "lst = []  # lists that stores the percentages\n",
    "for filename in os.listdir(directory):\n",
    "    if filename[-3:] == \"jpg\":\n",
    "        img = cv2.imread(\"highest/\"+filename)\n",
    "        grid_HSV = cv2.cvtColor(img, cv2.COLOR_BGR2HSV)\n",
    "\n",
    "        # skin colour\n",
    "        min_HSV = np.array([0, 58, 30], dtype = \"uint8\")\n",
    "        max_HSV = np.array([33, 255, 255], dtype = \"uint8\")\n",
    "\n",
    "        mask= cv2.inRange(grid_HSV, min_HSV, max_HSV)\n",
    "\n",
    "        # find the ratio\n",
    "        ratio = cv2.countNonZero(mask)/(img.size/3)\n",
    "        lst.append(ratio*100)\n",
    "\n",
    "        print(lst)\n",
    "# you can then use the list to do some visualisations"
   ]
  }
 ],
 "metadata": {
  "kernelspec": {
   "display_name": "Python 3",
   "language": "python",
   "name": "python3"
  },
  "language_info": {
   "codemirror_mode": {
    "name": "ipython",
    "version": 3
   },
   "file_extension": ".py",
   "mimetype": "text/x-python",
   "name": "python",
   "nbconvert_exporter": "python",
   "pygments_lexer": "ipython3",
   "version": "3.7.3"
  }
 },
 "nbformat": 4,
 "nbformat_minor": 4
}
