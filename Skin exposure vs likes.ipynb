{
 "cells": [
  {
   "cell_type": "markdown",
   "metadata": {},
   "source": [
    "## First approach"
   ]
  },
  {
   "cell_type": "code",
   "execution_count": 35,
   "metadata": {},
   "outputs": [
    {
     "data": {
      "text/plain": [
       "True"
      ]
     },
     "execution_count": 35,
     "metadata": {},
     "output_type": "execute_result"
    }
   ],
   "source": [
    "# Required modules\n",
    "import cv2\n",
    "import numpy as np\n",
    "import matplotlib.pyplot as plt\n",
    "\n",
    "min_YCrCb = np.array([0,133,77],np.uint8)\n",
    "max_YCrCb = np.array([235,173,127],np.uint8)\n",
    "\n",
    "# Get pointer to video frames from primary device\n",
    "image = cv2.imread(\"filename\")\n",
    "imageYCrCb = cv2.cvtColor(image,cv2.COLOR_BGR2YCR_CB)\n",
    "skinRegionYCrCb = cv2.inRange(imageYCrCb,min_YCrCb,max_YCrCb)\n",
    "\n",
    "skinYCrCb = cv2.bitwise_and(image, image, mask = skinRegionYCrCb)\n",
    "\n",
    "cv2.imwrite(\"filename_filtered.png\", np.hstack([image,skinYCrCb]))"
   ]
  },
  {
   "cell_type": "markdown",
   "metadata": {},
   "source": [
    "## Second approach"
   ]
  },
  {
   "cell_type": "code",
   "execution_count": 36,
   "metadata": {},
   "outputs": [
    {
     "data": {
      "text/plain": [
       "True"
      ]
     },
     "execution_count": 36,
     "metadata": {},
     "output_type": "execute_result"
    }
   ],
   "source": [
    "# Required modules\n",
    "import cv2\n",
    "import numpy as np\n",
    "import matplotlib.pyplot as plt\n",
    "\n",
    "min_HSV = np.array([0, 58, 30], dtype = \"uint8\")\n",
    "max_HSV = np.array([33, 255, 255], dtype = \"uint8\")\n",
    "# Get pointer to video frames from primary device\n",
    "image = cv2.imread(\"filename\")\n",
    "imageHSV = cv2.cvtColor(image, cv2.COLOR_BGR2HSV)\n",
    "skinRegionHSV = cv2.inRange(imageHSV, min_HSV, max_HSV)\n",
    "\n",
    "skinHSV = cv2.bitwise_and(image, image, mask = skinRegionHSV)\n",
    "\n",
    "# print(skinHSV/image)\n",
    "\n",
    "cv2.imwrite(\"filename_filtered.png\", np.hstack([image, skinHSV]))"
   ]
  },
  {
   "cell_type": "markdown",
   "metadata": {},
   "source": [
    "## Calculate ratio of skin to photo"
   ]
  },
  {
   "cell_type": "code",
   "execution_count": 42,
   "metadata": {},
   "outputs": [
    {
     "name": "stdout",
     "output_type": "stream",
     "text": [
      "brown pixel percentage: 57.51\n",
      "57.509\n"
     ]
    }
   ],
   "source": [
    "img = cv2.imread('filename')\n",
    "grid_HSV = cv2.cvtColor(img, cv2.COLOR_BGR2HSV)\n",
    "\n",
    "# skin colour\n",
    "min_HSV = np.array([0, 58, 30], dtype = \"uint8\")\n",
    "max_HSV = np.array([33, 255, 255], dtype = \"uint8\")\n",
    "\n",
    "mask= cv2.inRange(grid_HSV, min_HSV, max_HSV)\n",
    "\n",
    "# find the ratio\n",
    "ratio = cv2.countNonZero(mask)/(img.size/3)\n",
    "print('brown pixel percentage:', np.round(ratio*100, 3))"
   ]
  }
 ],
 "metadata": {
  "kernelspec": {
   "display_name": "Python 3",
   "language": "python",
   "name": "python3"
  },
  "language_info": {
   "codemirror_mode": {
    "name": "ipython",
    "version": 3
   },
   "file_extension": ".py",
   "mimetype": "text/x-python",
   "name": "python",
   "nbconvert_exporter": "python",
   "pygments_lexer": "ipython3",
   "version": "3.7.3"
  }
 },
 "nbformat": 4,
 "nbformat_minor": 4
}
